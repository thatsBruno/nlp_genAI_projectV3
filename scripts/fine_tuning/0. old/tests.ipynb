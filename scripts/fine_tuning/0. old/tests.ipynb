{
 "cells": [
  {
   "cell_type": "code",
   "execution_count": 1,
   "execution_state": "idle",
   "id": "d9c6fb87-74eb-4384-bd69-7f5475537d8c",
   "metadata": {},
   "outputs": [],
   "source": [
    "import boto3\n",
    "import tarfile\n",
    "import os"
   ]
  },
  {
   "cell_type": "code",
   "execution_count": 2,
   "execution_state": "idle",
   "id": "e33508ea-0d6b-43c6-bc00-dbf1921f4de0",
   "metadata": {},
   "outputs": [
    {
     "name": "stdout",
     "output_type": "stream",
     "text": [
      "Collecting datasets==3.2.0\n",
      "  Using cached datasets-3.2.0-py3-none-any.whl.metadata (20 kB)\n",
      "Requirement already satisfied: filelock in /opt/conda/lib/python3.11/site-packages (from datasets==3.2.0) (3.18.0)\n",
      "Requirement already satisfied: numpy>=1.17 in /opt/conda/lib/python3.11/site-packages (from datasets==3.2.0) (1.26.4)\n",
      "Requirement already satisfied: pyarrow>=15.0.0 in /opt/conda/lib/python3.11/site-packages (from datasets==3.2.0) (17.0.0)\n",
      "Collecting dill<0.3.9,>=0.3.0 (from datasets==3.2.0)\n",
      "  Using cached dill-0.3.8-py3-none-any.whl.metadata (10 kB)\n",
      "Requirement already satisfied: pandas in /opt/conda/lib/python3.11/site-packages (from datasets==3.2.0) (2.2.3)\n",
      "Requirement already satisfied: requests>=2.32.2 in /opt/conda/lib/python3.11/site-packages (from datasets==3.2.0) (2.32.3)\n",
      "Requirement already satisfied: tqdm>=4.66.3 in /opt/conda/lib/python3.11/site-packages (from datasets==3.2.0) (4.67.1)\n",
      "Requirement already satisfied: xxhash in /opt/conda/lib/python3.11/site-packages (from datasets==3.2.0) (3.5.0)\n",
      "Collecting multiprocess<0.70.17 (from datasets==3.2.0)\n",
      "  Using cached multiprocess-0.70.16-py311-none-any.whl.metadata (7.2 kB)\n",
      "Collecting fsspec<=2024.9.0,>=2023.1.0 (from fsspec[http]<=2024.9.0,>=2023.1.0->datasets==3.2.0)\n",
      "  Using cached fsspec-2024.9.0-py3-none-any.whl.metadata (11 kB)\n",
      "Requirement already satisfied: aiohttp in /opt/conda/lib/python3.11/site-packages (from datasets==3.2.0) (3.9.5)\n",
      "Requirement already satisfied: huggingface-hub>=0.23.0 in /opt/conda/lib/python3.11/site-packages (from datasets==3.2.0) (0.30.2)\n",
      "Requirement already satisfied: packaging in /opt/conda/lib/python3.11/site-packages (from datasets==3.2.0) (24.2)\n",
      "Requirement already satisfied: pyyaml>=5.1 in /opt/conda/lib/python3.11/site-packages (from datasets==3.2.0) (6.0.2)\n",
      "Requirement already satisfied: aiosignal>=1.1.2 in /opt/conda/lib/python3.11/site-packages (from aiohttp->datasets==3.2.0) (1.3.2)\n",
      "Requirement already satisfied: attrs>=17.3.0 in /opt/conda/lib/python3.11/site-packages (from aiohttp->datasets==3.2.0) (23.2.0)\n",
      "Requirement already satisfied: frozenlist>=1.1.1 in /opt/conda/lib/python3.11/site-packages (from aiohttp->datasets==3.2.0) (1.5.0)\n",
      "Requirement already satisfied: multidict<7.0,>=4.5 in /opt/conda/lib/python3.11/site-packages (from aiohttp->datasets==3.2.0) (6.4.3)\n",
      "Requirement already satisfied: yarl<2.0,>=1.0 in /opt/conda/lib/python3.11/site-packages (from aiohttp->datasets==3.2.0) (1.20.0)\n",
      "Requirement already satisfied: typing-extensions>=3.7.4.3 in /opt/conda/lib/python3.11/site-packages (from huggingface-hub>=0.23.0->datasets==3.2.0) (4.13.2)\n",
      "Requirement already satisfied: charset_normalizer<4,>=2 in /opt/conda/lib/python3.11/site-packages (from requests>=2.32.2->datasets==3.2.0) (3.4.1)\n",
      "Requirement already satisfied: idna<4,>=2.5 in /opt/conda/lib/python3.11/site-packages (from requests>=2.32.2->datasets==3.2.0) (3.10)\n",
      "Requirement already satisfied: urllib3<3,>=1.21.1 in /opt/conda/lib/python3.11/site-packages (from requests>=2.32.2->datasets==3.2.0) (2.4.0)\n",
      "Requirement already satisfied: certifi>=2017.4.17 in /opt/conda/lib/python3.11/site-packages (from requests>=2.32.2->datasets==3.2.0) (2025.1.31)\n",
      "Requirement already satisfied: python-dateutil>=2.8.2 in /opt/conda/lib/python3.11/site-packages (from pandas->datasets==3.2.0) (2.9.0.post0)\n",
      "Requirement already satisfied: pytz>=2020.1 in /opt/conda/lib/python3.11/site-packages (from pandas->datasets==3.2.0) (2024.2)\n",
      "Requirement already satisfied: tzdata>=2022.7 in /opt/conda/lib/python3.11/site-packages (from pandas->datasets==3.2.0) (2025.2)\n",
      "Requirement already satisfied: six>=1.5 in /opt/conda/lib/python3.11/site-packages (from python-dateutil>=2.8.2->pandas->datasets==3.2.0) (1.17.0)\n",
      "Requirement already satisfied: propcache>=0.2.1 in /opt/conda/lib/python3.11/site-packages (from yarl<2.0,>=1.0->aiohttp->datasets==3.2.0) (0.3.1)\n",
      "Using cached datasets-3.2.0-py3-none-any.whl (480 kB)\n",
      "Using cached dill-0.3.8-py3-none-any.whl (116 kB)\n",
      "Using cached fsspec-2024.9.0-py3-none-any.whl (179 kB)\n",
      "Using cached multiprocess-0.70.16-py311-none-any.whl (143 kB)\n",
      "Installing collected packages: fsspec, dill, multiprocess, datasets\n",
      "  Attempting uninstall: fsspec\n",
      "    Found existing installation: fsspec 2024.10.0\n",
      "    Uninstalling fsspec-2024.10.0:\n",
      "      Successfully uninstalled fsspec-2024.10.0\n",
      "  Attempting uninstall: dill\n",
      "    Found existing installation: dill 0.4.0\n",
      "    Uninstalling dill-0.4.0:\n",
      "      Successfully uninstalled dill-0.4.0\n",
      "  Attempting uninstall: multiprocess\n",
      "    Found existing installation: multiprocess 0.70.18\n",
      "    Uninstalling multiprocess-0.70.18:\n",
      "      Successfully uninstalled multiprocess-0.70.18\n",
      "  Attempting uninstall: datasets\n",
      "    Found existing installation: datasets 2.2.1\n",
      "    Uninstalling datasets-2.2.1:\n",
      "      Successfully uninstalled datasets-2.2.1\n",
      "\u001b[31mERROR: pip's dependency resolver does not currently take into account all the packages that are installed. This behaviour is the source of the following dependency conflicts.\n",
      "jupyter-ai 2.29.1 requires faiss-cpu!=1.8.0.post0,<2.0.0,>=1.8.0, which is not installed.\n",
      "pathos 0.3.4 requires dill>=0.4.0, but you have dill 0.3.8 which is incompatible.\n",
      "pathos 0.3.4 requires multiprocess>=0.70.18, but you have multiprocess 0.70.16 which is incompatible.\n",
      "s3fs 2024.10.0 requires fsspec==2024.10.0.*, but you have fsspec 2024.9.0 which is incompatible.\u001b[0m\u001b[31m\n",
      "\u001b[0mSuccessfully installed datasets-3.2.0 dill-0.3.8 fsspec-2024.9.0 multiprocess-0.70.16\n"
     ]
    }
   ],
   "source": [
    "!pip install datasets==3.2.0"
   ]
  },
  {
   "cell_type": "code",
   "execution_count": 3,
   "execution_state": "idle",
   "id": "6922c83d-6ca2-43c0-9542-46b4835de86f",
   "metadata": {},
   "outputs": [],
   "source": [
    "model_path='s3://sagemaker-eu-west-1-267567228900/news_classification/output/huggingface-pytorch-training-2025-01-20-15-47-49-564/output/model.tar.gz'\n"
   ]
  },
  {
   "cell_type": "code",
   "execution_count": 4,
   "execution_state": "idle",
   "id": "b74a9418-429d-4a15-b7aa-cfde74047988",
   "metadata": {},
   "outputs": [
    {
     "name": "stdout",
     "output_type": "stream",
     "text": [
      "Contents of model.tar.gz:\n",
      "extracted_model_new/tokenizer_config.json\n",
      "extracted_model_new/tokenizer.json\n",
      "extracted_model_new/adapter_config.json\n",
      "extracted_model_new/training_args.bin\n",
      "extracted_model_new/adapter_model.safetensors\n",
      "extracted_model_new/README.md\n",
      "extracted_model_new/special_tokens_map.json\n",
      "extracted_model_new/checkpoint-2/tokenizer_config.json\n",
      "extracted_model_new/checkpoint-2/tokenizer.json\n",
      "extracted_model_new/checkpoint-2/adapter_config.json\n",
      "extracted_model_new/checkpoint-2/training_args.bin\n",
      "extracted_model_new/checkpoint-2/trainer_state.json\n",
      "extracted_model_new/checkpoint-2/adapter_model.safetensors\n",
      "extracted_model_new/checkpoint-2/README.md\n",
      "extracted_model_new/checkpoint-2/rng_state.pth\n",
      "extracted_model_new/checkpoint-2/optimizer.pt\n",
      "extracted_model_new/checkpoint-2/scheduler.pt\n",
      "extracted_model_new/checkpoint-2/special_tokens_map.json\n",
      "extracted_model_new/checkpoint-3/tokenizer_config.json\n",
      "extracted_model_new/checkpoint-3/tokenizer.json\n",
      "extracted_model_new/checkpoint-3/adapter_config.json\n",
      "extracted_model_new/checkpoint-3/training_args.bin\n",
      "extracted_model_new/checkpoint-3/trainer_state.json\n",
      "extracted_model_new/checkpoint-3/adapter_model.safetensors\n",
      "extracted_model_new/checkpoint-3/README.md\n",
      "extracted_model_new/checkpoint-3/rng_state.pth\n",
      "extracted_model_new/checkpoint-3/optimizer.pt\n",
      "extracted_model_new/checkpoint-3/scheduler.pt\n",
      "extracted_model_new/checkpoint-3/special_tokens_map.json\n",
      "extracted_model_new/model_merged_16bit/tokenizer_config.json\n",
      "extracted_model_new/model_merged_16bit/tokenizer.json\n",
      "extracted_model_new/model_merged_16bit/model.safetensors\n",
      "extracted_model_new/model_merged_16bit/config.json\n",
      "extracted_model_new/model_merged_16bit/generation_config.json\n",
      "extracted_model_new/model_merged_16bit/special_tokens_map.json\n",
      "extracted_model_new/runs/Jan29_18-25-45_algo-1/events.out.tfevents.1738175152.algo-1.87.0\n",
      "extracted_model_new/lora_adapter/adapter_config.json\n",
      "extracted_model_new/lora_adapter/adapter_model.safetensors\n",
      "extracted_model_new/lora_adapter/README.md\n",
      "extracted_model_new/model_merged_4bit/tokenizer_config.json\n",
      "extracted_model_new/model_merged_4bit/tokenizer.json\n",
      "extracted_model_new/model_merged_4bit/model.safetensors\n",
      "extracted_model_new/model_merged_4bit/config.json\n",
      "extracted_model_new/model_merged_4bit/generation_config.json\n",
      "extracted_model_new/model_merged_4bit/special_tokens_map.json\n"
     ]
    }
   ],
   "source": [
    "\n",
    "bucket = 'sagemaker-eu-west-1-267567228900'\n",
    "key = 'news_classification/output/huggingface-pytorch-training-2025-01-29-18-17-48-046/output/model.tar.gz'\n",
    "local_file = 'model.tar.gz'\n",
    "\n",
    "# Download the model.tar.gz\n",
    "s3_client = boto3.client('s3')\n",
    "s3_client.download_file(bucket, key, local_file)\n",
    "\n",
    "# Extract it\n",
    "with tarfile.open('model.tar.gz', 'r:gz') as tar:\n",
    "    tar.extractall('extracted_model_new')\n",
    "    \n",
    "# List the contents\n",
    "print(\"Contents of model.tar.gz:\")\n",
    "for root, dirs, files in os.walk('extracted_model_new'):\n",
    "    for file in files:\n",
    "        print(os.path.join(root, file))"
   ]
  },
  {
   "cell_type": "code",
   "execution_count": 5,
   "execution_state": "idle",
   "id": "2586b551-65ff-40d6-80f0-1662846248c3",
   "metadata": {},
   "outputs": [],
   "source": [
    "import json \n",
    "from datasets import Dataset\n",
    "\n",
    "def load_jsonl_data(file_path):\n",
    "    data = []\n",
    "    with open(file_path, 'r') as f:\n",
    "        for line in f:\n",
    "            data.append(json.loads(line))\n",
    "    return Dataset.from_list(data)\n",
    "\n",
    "# Load training data\n",
    "test_jsonl_dataset = load_jsonl_data('test.jsonl')\n"
   ]
  },
  {
   "cell_type": "code",
   "execution_count": 6,
   "execution_state": "idle",
   "id": "d38c304c-98eb-4662-92de-d97ed5705bc6",
   "metadata": {},
   "outputs": [
    {
     "data": {
      "text/plain": [
       "Dataset({\n",
       "    features: ['text'],\n",
       "    num_rows: 7600\n",
       "})"
      ]
     },
     "execution_count": 6,
     "metadata": {},
     "output_type": "execute_result"
    }
   ],
   "source": [
    "Dataset.from_list(test_jsonl_dataset)"
   ]
  },
  {
   "cell_type": "code",
   "execution_count": 7,
   "execution_state": "idle",
   "id": "cb1acc2d-384e-4e88-b4d4-5ff757b0a30d",
   "metadata": {},
   "outputs": [
    {
     "data": {
      "text/plain": [
       "Dataset({\n",
       "    features: ['text'],\n",
       "    num_rows: 20\n",
       "})"
      ]
     },
     "execution_count": 7,
     "metadata": {},
     "output_type": "execute_result"
    }
   ],
   "source": [
    "test_jsonl_dataset.select(range(20))"
   ]
  },
  {
   "cell_type": "code",
   "execution_count": null,
   "id": "bcca90d4-65d8-43f9-916f-f6d10fdcbc0b",
   "metadata": {},
   "outputs": [],
   "source": []
  }
 ],
 "metadata": {
  "kernelspec": {
   "display_name": "Python 3 (ipykernel)",
   "language": "python",
   "name": "python3"
  },
  "language_info": {
   "codemirror_mode": {
    "name": "ipython",
    "version": 3
   },
   "file_extension": ".py",
   "mimetype": "text/x-python",
   "name": "python",
   "nbconvert_exporter": "python",
   "pygments_lexer": "ipython3",
   "version": "3.11.11"
  }
 },
 "nbformat": 4,
 "nbformat_minor": 5
}
